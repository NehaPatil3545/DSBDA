{
  "nbformat": 4,
  "nbformat_minor": 0,
  "metadata": {
    "colab": {
      "name": "Practical4.ipynb",
      "provenance": []
    },
    "kernelspec": {
      "name": "python3",
      "display_name": "Python 3"
    },
    "language_info": {
      "name": "python"
    }
  },
  "cells": [
    {
      "cell_type": "code",
      "execution_count": null,
      "metadata": {
        "id": "efmBb2LxRBvD"
      },
      "outputs": [],
      "source": [
        "import numpy as np\n",
        "import pandas as pd\n",
        "import matplotlib.pyplot as plt"
      ]
    },
    {
      "cell_type": "code",
      "source": [
        "from sklearn.datasets import load_boston\n",
        "boston = load_boston()\n",
        "%matplotlib inline"
      ],
      "metadata": {
        "id": "sBy_lFoAALvK"
      },
      "execution_count": null,
      "outputs": []
    },
    {
      "cell_type": "code",
      "source": [
        "print(boston.keys())"
      ],
      "metadata": {
        "id": "WaJKFHjnSLd4"
      },
      "execution_count": null,
      "outputs": []
    },
    {
      "cell_type": "code",
      "source": [
        "print(boston['DESCR'])"
      ],
      "metadata": {
        "id": "C879mXZMSVBV"
      },
      "execution_count": null,
      "outputs": []
    },
    {
      "cell_type": "code",
      "source": [
        "boston_df = pd.DataFrame(boston['data'] )\n",
        "boston_df.head()"
      ],
      "metadata": {
        "id": "BHOgGXO8TQR7"
      },
      "execution_count": null,
      "outputs": []
    },
    {
      "cell_type": "code",
      "source": [
        "boston_df.columns = boston['feature_names']\n",
        "boston_df.head()"
      ],
      "metadata": {
        "id": "RZs1c5G-TkLq"
      },
      "execution_count": null,
      "outputs": []
    },
    {
      "cell_type": "code",
      "source": [
        "boston_df['PRICE']= boston['target']\n",
        "boston_df.head()"
      ],
      "metadata": {
        "id": "sFULn44zT2tP"
      },
      "execution_count": null,
      "outputs": []
    },
    {
      "cell_type": "code",
      "source": [
        "import numpy as np\n",
        "print(np.sum(np.isnan(boston_df)))"
      ],
      "metadata": {
        "id": "yXabIddLT-fD"
      },
      "execution_count": null,
      "outputs": []
    },
    {
      "cell_type": "code",
      "source": [
        "import seaborn as sns\n",
        "sns.distplot(boston_df['PRICE']);"
      ],
      "metadata": {
        "id": "UfcXpK_OUUJ0"
      },
      "execution_count": null,
      "outputs": []
    },
    {
      "cell_type": "code",
      "source": [
        "from sklearn.model_selection  import train_test_split\n",
        "y = boston_df['PRICE']\n",
        "\n",
        "X = boston_df.iloc[:,0:13]\n",
        "\n",
        "X_train, X_test, y_train, y_test = train_test_split(X, y, test_size=0.3, random_state=0)\n",
        "\n",
        "print(X_train.shape, X_test.shape, y_train.shape, y_test.shape)"
      ],
      "metadata": {
        "colab": {
          "base_uri": "https://localhost:8080/"
        },
        "id": "OUlnVxxsUtZL",
        "outputId": "38383fd1-1c8f-46de-f52b-6a40fc66512b"
      },
      "execution_count": null,
      "outputs": [
        {
          "output_type": "stream",
          "name": "stdout",
          "text": [
            "(354, 13) (152, 13) (354,) (152,)\n"
          ]
        }
      ]
    },
    {
      "cell_type": "code",
      "source": [
        "from sklearn.linear_model import LinearRegression\n",
        "lm = LinearRegression()\n",
        "lm.fit( X_train, y_train )"
      ],
      "metadata": {
        "colab": {
          "base_uri": "https://localhost:8080/"
        },
        "id": "QA8Jo_RTU_h3",
        "outputId": "bdcd7e5a-2918-48ee-f638-aadd892aa904"
      },
      "execution_count": null,
      "outputs": [
        {
          "output_type": "execute_result",
          "data": {
            "text/plain": [
              "LinearRegression()"
            ]
          },
          "metadata": {},
          "execution_count": 11
        }
      ]
    },
    {
      "cell_type": "code",
      "source": [
        "print('labels\\n',X.columns)\n",
        "print('Coefficients: \\n', lm.coef_)\n",
        "print('Intercept: \\n', lm.intercept_)\n",
        "print('R2 for Train)', lm.score( X_train, y_train ))\n",
        "print('R2 for Test (cross validation)', lm.score(X_test, y_test))"
      ],
      "metadata": {
        "id": "tG3QqgmVVJKb"
      },
      "execution_count": null,
      "outputs": []
    },
    {
      "cell_type": "code",
      "source": [
        "pd.DataFrame( list(zip(X.columns, lm.coef_)),\n",
        "            columns=['features', 'estimatedCoeffs'])"
      ],
      "metadata": {
        "id": "4rdBiVOSVM5n"
      },
      "execution_count": null,
      "outputs": []
    },
    {
      "cell_type": "code",
      "source": [
        "boston_df['PRICE_REG']=lm.predict(boston_df.iloc[:,0:13])\n",
        "boston_df[['PRICE', 'PRICE_REG']].head()"
      ],
      "metadata": {
        "id": "oJT8ntrxVTj0"
      },
      "execution_count": null,
      "outputs": []
    },
    {
      "cell_type": "code",
      "source": [
        "import matplotlib.pyplot as plt\n",
        "%matplotlib inline\n",
        "plt.scatter( boston_df['PRICE'], boston_df['PRICE_REG'], s=5 )\n",
        "plt.xlabel( \"Prices\")\n",
        "plt.ylabel( \"Predicted Prices\")\n",
        "plt.title( \"Real vs Predicted Housing Prices\")"
      ],
      "metadata": {
        "id": "E2TZWgB_VZib"
      },
      "execution_count": null,
      "outputs": []
    },
    {
      "cell_type": "code",
      "source": [
        ""
      ],
      "metadata": {
        "id": "qHOcXOk8U7af"
      },
      "execution_count": null,
      "outputs": []
    }
  ]
}