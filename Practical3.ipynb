{
  "nbformat": 4,
  "nbformat_minor": 0,
  "metadata": {
    "colab": {
      "name": "Practical3.ipynb",
      "provenance": []
    },
    "kernelspec": {
      "name": "python3",
      "display_name": "Python 3"
    },
    "language_info": {
      "name": "python"
    }
  },
  "cells": [
    {
      "cell_type": "code",
      "execution_count": null,
      "metadata": {
        "id": "YHaaUkPC_ntP"
      },
      "outputs": [],
      "source": [
        "import pandas as pd\n",
        "url_link = 'https://raw.githubusercontent.com/NehaPatil3545/Datasets/main/Prac3.csv'\n",
        "df = pd.read_csv (url_link)"
      ]
    },
    {
      "cell_type": "code",
      "source": [
        "df.head()"
      ],
      "metadata": {
        "id": "-bOUjk_EADdM"
      },
      "execution_count": null,
      "outputs": []
    },
    {
      "cell_type": "code",
      "source": [
        "df.min()"
      ],
      "metadata": {
        "id": "RJ20w40_AQzJ"
      },
      "execution_count": null,
      "outputs": []
    },
    {
      "cell_type": "code",
      "source": [
        "df.max()"
      ],
      "metadata": {
        "id": "f2VKeGQNAWSk"
      },
      "execution_count": null,
      "outputs": []
    },
    {
      "cell_type": "code",
      "source": [
        "df['age'].mode()"
      ],
      "metadata": {
        "id": "KvUhX4TuAZs9"
      },
      "execution_count": null,
      "outputs": []
    },
    {
      "cell_type": "code",
      "source": [
        "# Std Deviation\n",
        "round(df['age'].std(),2)"
      ],
      "metadata": {
        "id": "8w0vId4OAjOY"
      },
      "execution_count": null,
      "outputs": []
    },
    {
      "cell_type": "code",
      "source": [
        "round(df.describe(),2)"
      ],
      "metadata": {
        "id": "cOCaaXEKAovB"
      },
      "execution_count": null,
      "outputs": []
    },
    {
      "cell_type": "code",
      "source": [
        "df['age'].groupby(df['ed']).describe()"
      ],
      "metadata": {
        "id": "mdljIisJAvia"
      },
      "execution_count": null,
      "outputs": []
    }
  ]
}