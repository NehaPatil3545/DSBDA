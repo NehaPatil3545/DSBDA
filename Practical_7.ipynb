{
  "nbformat": 4,
  "nbformat_minor": 0,
  "metadata": {
    "colab": {
      "name": "Practical 7.ipynb",
      "provenance": []
    },
    "kernelspec": {
      "name": "python3",
      "display_name": "Python 3"
    },
    "language_info": {
      "name": "python"
    }
  },
  "cells": [
    {
      "cell_type": "markdown",
      "source": [
        "import nltk"
      ],
      "metadata": {
        "id": "ySEMZ4d96VfU"
      }
    },
    {
      "cell_type": "code",
      "source": [
        "from nltk.tokenize import sent_tokenize\n",
        "from nltk.tokenize import word_tokenize\n",
        "from nltk.corpus import stopwords\n",
        "from nltk.stem import  PorterStemmer\n",
        "from nltk.stem.wordnet import WordNetLemmatizer "
      ],
      "metadata": {
        "id": "YQ2KhWr36loY"
      },
      "execution_count": null,
      "outputs": []
    },
    {
      "cell_type": "code",
      "source": [
        "nltk.download('punkt')\n",
        "nltk.download('stopwords') \n",
        "nltk.download('wordnet') \n",
        "nltk.download('omw-1.4') \n",
        "nltk.download('averaged_perceptron_tagger')"
      ],
      "metadata": {
        "id": "JpV8dk-b72oo"
      },
      "execution_count": null,
      "outputs": []
    },
    {
      "cell_type": "code",
      "source": [
        "text=\"\"\"Hello Mr. Smith,how are you doing today?The weather is great, and city is awesome.The sky is pinkish-blue.You shouldn't eat cardboard\"\"\""
      ],
      "metadata": {
        "id": "4AMbZVai8Jpt"
      },
      "execution_count": null,
      "outputs": []
    },
    {
      "cell_type": "code",
      "source": [
        "\n",
        "tokenized_text=sent_tokenize(text)\n",
        "print(\"\\n#Sentence Tokenization\")\n",
        "print(tokenized_text)"
      ],
      "metadata": {
        "id": "lmrtu9od8s7x"
      },
      "execution_count": null,
      "outputs": []
    },
    {
      "cell_type": "code",
      "source": [
        "token_word=word_tokenize(text)\n",
        "print(\"Word Tokenization\")\n",
        "print(token_word)"
      ],
      "metadata": {
        "id": "oQe9LGUF-nmX"
      },
      "execution_count": null,
      "outputs": []
    },
    {
      "cell_type": "code",
      "source": [
        "stop_words=stopwords.words('english')\n",
        "print(stop_words)"
      ],
      "metadata": {
        "id": "z1z9z_lDAAPk"
      },
      "execution_count": null,
      "outputs": []
    },
    {
      "cell_type": "code",
      "source": [
        "filtered_sent=[]\n",
        "for w in token_word:\n",
        "  if w not in stop_words:\n",
        "      filtered_sent.append(w)\n",
        "print(\"tokenized sentence:\",token_word)\n",
        "print(\"filtered sentence:\",filtered_sent)"
      ],
      "metadata": {
        "id": "Kki0guGBCTGi"
      },
      "execution_count": null,
      "outputs": []
    },
    {
      "cell_type": "code",
      "source": [
        "ps=PorterStemmer()\n",
        "stemmed_word=[]\n",
        "for w in token_word:\n",
        "  stemmed_word.append(ps.stem(w))\n",
        "print(\"Stemmed sentence:\",stemmed_word)"
      ],
      "metadata": {
        "id": "JS3xR_YvHUKj"
      },
      "execution_count": null,
      "outputs": []
    },
    {
      "cell_type": "code",
      "source": [
        "lemmed_word=[]\n",
        "lem=WordNetLemmatizer()\n",
        "for w in token_word:\n",
        "  lemmed_word.append(lem.lemmatize(w))\n",
        "print(\"\\n Lemmetized sentence:\",lemmed_word)"
      ],
      "metadata": {
        "id": "jaZEZZeoIdRO"
      },
      "execution_count": null,
      "outputs": []
    },
    {
      "cell_type": "code",
      "source": [
        "sent=\"Albert Einstein was born in ulm,germany in 1879.\"\n",
        "tokens=nltk.word_tokenize(sent)\n",
        "pos_tagging=nltk.pos_tag(tokens)\n",
        "print(\"pos tagging/n:\",pos_tagging)"
      ],
      "metadata": {
        "id": "ReksNTUKJKNW"
      },
      "execution_count": null,
      "outputs": []
    }
  ]
}