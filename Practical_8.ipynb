{
  "nbformat": 4,
  "nbformat_minor": 0,
  "metadata": {
    "colab": {
      "name": "Practical 8.ipynb",
      "provenance": []
    },
    "kernelspec": {
      "name": "python3",
      "display_name": "Python 3"
    },
    "language_info": {
      "name": "python"
    }
  },
  "cells": [
    {
      "cell_type": "code",
      "source": [
        "import pandas as pd\n",
        "import numpy as np\n",
        "import matplotlib.pyplot as plt\n",
        "import seaborn as sns\n",
        "dataset = sns.load_dataset('titanic')\n",
        "dataset.head()\n"
      ],
      "metadata": {
        "id": "26zLz8JoyxfO"
      },
      "execution_count": null,
      "outputs": []
    },
    {
      "cell_type": "code",
      "source": [
        "sns.distplot(dataset['fare'])"
      ],
      "metadata": {
        "id": "VcPLu5hAahbB"
      },
      "execution_count": null,
      "outputs": []
    },
    {
      "cell_type": "code",
      "source": [
        "sns.distplot(dataset['fare'],kde=False)"
      ],
      "metadata": {
        "id": "7uk0xNxv0O6h"
      },
      "execution_count": null,
      "outputs": []
    },
    {
      "cell_type": "code",
      "source": [
        "sns.distplot(dataset['fare'],kde=False , bins=10)"
      ],
      "metadata": {
        "id": "MudJJHX_dh5C"
      },
      "execution_count": null,
      "outputs": []
    }
  ]
}