{
  "nbformat": 4,
  "nbformat_minor": 0,
  "metadata": {
    "colab": {
      "name": "Practical_2.ipynb",
      "provenance": []
    },
    "kernelspec": {
      "name": "python3",
      "display_name": "Python 3"
    },
    "language_info": {
      "name": "python"
    }
  },
  "cells": [
    {
      "cell_type": "code",
      "execution_count": 4,
      "metadata": {
        "id": "bvL24Ug-IcHp"
      },
      "outputs": [],
      "source": [
        "import pandas as pd\n",
        "import numpy as np\n",
        "from matplotlib import pyplot as plt\n",
        "import seaborn as sns"
      ]
    },
    {
      "cell_type": "code",
      "source": [
        "url='https://raw.githubusercontent.com/NehaPatil3545/Datasets/main/Prac2.csv'\n",
        "df1=pd.read_csv(url)"
      ],
      "metadata": {
        "id": "S0kTQc9RIyVw"
      },
      "execution_count": 3,
      "outputs": []
    },
    {
      "cell_type": "code",
      "source": [
        "df1.head()"
      ],
      "metadata": {
        "id": "MP1b3dzGJgfh"
      },
      "execution_count": null,
      "outputs": []
    },
    {
      "cell_type": "code",
      "source": [
        "df1.dtypes"
      ],
      "metadata": {
        "id": "5JxzsOkdJkiO"
      },
      "execution_count": null,
      "outputs": []
    },
    {
      "cell_type": "code",
      "source": [
        "df1.isnull()"
      ],
      "metadata": {
        "id": "Bu10RJEFJrmv"
      },
      "execution_count": null,
      "outputs": []
    },
    {
      "cell_type": "code",
      "source": [
        "df1.replace(\"?\",np.nan,inplace=True)"
      ],
      "metadata": {
        "id": "MwMK_ldPJyjM"
      },
      "execution_count": 7,
      "outputs": []
    },
    {
      "cell_type": "code",
      "source": [
        "df2=df1.dropna()"
      ],
      "metadata": {
        "id": "z81sqoZvJ9WL"
      },
      "execution_count": 8,
      "outputs": []
    },
    {
      "cell_type": "code",
      "source": [
        "df2=df2.astype({\"math score\":int,\"reading score\":int,\"writing score\":int})\n",
        "df2.dtypes"
      ],
      "metadata": {
        "id": "kRILL7doKG0H"
      },
      "execution_count": null,
      "outputs": []
    },
    {
      "cell_type": "code",
      "source": [
        "sns.boxplot(x=df2[\"math score\"])"
      ],
      "metadata": {
        "id": "Ca2wZ_r4KPWb"
      },
      "execution_count": null,
      "outputs": []
    },
    {
      "cell_type": "code",
      "source": [
        "sns.boxplot(x=df2[\"reading score\"])"
      ],
      "metadata": {
        "id": "OVSTgmOQKS0G"
      },
      "execution_count": null,
      "outputs": []
    },
    {
      "cell_type": "code",
      "source": [
        "def outliers(df,feature): #Takes in df and column.Returns list of indexes of ouliers.\n",
        "    q1=df[feature].quantile(0.25)\n",
        "    q3=df[feature].quantile(0.75)\n",
        "    iqr=q3-q1\n",
        "    lower_bound=q1-1.5*iqr\n",
        "    upper_bound=q3+1.5*iqr\n",
        "    ls=df.index[(df[feature]<lower_bound) | (df[feature]>upper_bound)]\n",
        "    return ls\n",
        "def remove(df,ls):\n",
        "    ls=sorted(set(ls))\n",
        "    df=df.drop(ls)\n",
        "    return df\n",
        "# Creating the list of outliers.\n",
        "index_list=[]\n",
        "for feature in['math score','reading score','writing score']:\n",
        "    index_list.extend(outliers(df2,feature))\n",
        "print(index_list)\n",
        "#Remove ouliers.\n",
        "df3=remove(df2,index_list)\n",
        "print(\"After removing outliers\")\n",
        "sns.boxplot(x=df3[\"math score\"])"
      ],
      "metadata": {
        "id": "av_eqDm9KbJV"
      },
      "execution_count": null,
      "outputs": []
    },
    {
      "cell_type": "code",
      "source": [
        "sns.boxplot(x=df3[\"reading score\"])"
      ],
      "metadata": {
        "id": "hRwNOlfhKfPY"
      },
      "execution_count": null,
      "outputs": []
    },
    {
      "cell_type": "code",
      "source": [
        "sns.boxplot(x=df3[\"writing score\"])"
      ],
      "metadata": {
        "id": "RStUJ3MAKmOM"
      },
      "execution_count": null,
      "outputs": []
    },
    {
      "cell_type": "code",
      "source": [
        "df4=(df3-df3.mean())/df3.std()\n",
        "df4.describe()"
      ],
      "metadata": {
        "id": "3ODO5k1IKqnK"
      },
      "execution_count": null,
      "outputs": []
    }
  ]
}