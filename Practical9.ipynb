{
  "nbformat": 4,
  "nbformat_minor": 0,
  "metadata": {
    "colab": {
      "name": "Practical9.ipynb",
      "provenance": []
    },
    "kernelspec": {
      "name": "python3",
      "display_name": "Python 3"
    },
    "language_info": {
      "name": "python"
    }
  },
  "cells": [
    {
      "cell_type": "code",
      "execution_count": null,
      "metadata": {
        "id": "Ynv4gpNna_9b"
      },
      "outputs": [],
      "source": [
        "import pandas as pd\n",
        "import numpy as np\n",
        "import matplotlib.pyplot as plt\n",
        "import seaborn as sns\n",
        "dataset = sns.load_dataset('titanic')\n",
        "dataset.head()"
      ]
    },
    {
      "cell_type": "code",
      "source": [
        "sns.boxplot(x='sex',y='age',data=dataset)"
      ],
      "metadata": {
        "id": "ltC2-TzEcW84"
      },
      "execution_count": null,
      "outputs": []
    },
    {
      "cell_type": "code",
      "source": [
        "sns.boxplot(x='age',y='sex',data=dataset)"
      ],
      "metadata": {
        "id": "GTZ75G4RckQ-"
      },
      "execution_count": null,
      "outputs": []
    },
    {
      "cell_type": "code",
      "source": [
        "sns.boxplot(x='age',y='sex',data=dataset,hue=\"survived\")"
      ],
      "metadata": {
        "id": "coR1UGNIcqEP"
      },
      "execution_count": null,
      "outputs": []
    }
  ]
}