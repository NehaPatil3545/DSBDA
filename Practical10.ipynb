{
  "nbformat": 4,
  "nbformat_minor": 0,
  "metadata": {
    "colab": {
      "name": "Practical10.ipynb",
      "provenance": []
    },
    "kernelspec": {
      "name": "python3",
      "display_name": "Python 3"
    },
    "language_info": {
      "name": "python"
    }
  },
  "cells": [
    {
      "cell_type": "code",
      "execution_count": null,
      "metadata": {
        "id": "XDn8YsxMdsg-"
      },
      "outputs": [],
      "source": [
        "import matplotlib.pyplot as plt\n",
        "import pandas as pd\n",
        "path=\"IRIS.csv\"\n",
        "df=pd.read_csv(path)"
      ]
    },
    {
      "cell_type": "code",
      "source": [
        "df.head()"
      ],
      "metadata": {
        "id": "XsMvVxuyd_JT"
      },
      "execution_count": null,
      "outputs": []
    },
    {
      "cell_type": "code",
      "source": [
        "df.tail()"
      ],
      "metadata": {
        "id": "5YO7kzjGeAT2"
      },
      "execution_count": null,
      "outputs": []
    },
    {
      "cell_type": "code",
      "source": [
        "df.info()"
      ],
      "metadata": {
        "id": "FEBClj85IROo"
      },
      "execution_count": null,
      "outputs": []
    },
    {
      "cell_type": "code",
      "source": [
        "df.hist()\n",
        "plt.show()"
      ],
      "metadata": {
        "id": "Gs3efQameIuR"
      },
      "execution_count": null,
      "outputs": []
    },
    {
      "cell_type": "code",
      "source": [
        "df.boxplot()\n",
        "plt.show"
      ],
      "metadata": {
        "id": "2Ssus5bteNrG"
      },
      "execution_count": null,
      "outputs": []
    },
    {
      "cell_type": "code",
      "source": [
        "plt.scatter(df['sepal_length'],df['sepal_width'])\n",
        "plt.xlabel(\"Sepal Length\")\n",
        "plt.ylabel(\"Sepal width\")\n",
        "plt.show()"
      ],
      "metadata": {
        "id": "YWM8AoGMeZMz"
      },
      "execution_count": null,
      "outputs": []
    },
    {
      "cell_type": "code",
      "source": [
        "plt.scatter(df['sepal_length'],df['petal_length'])\n",
        "plt.xlabel(\"Sepal Length\")\n",
        "plt.ylabel(\"Petal width\")\n",
        "plt.show()"
      ],
      "metadata": {
        "id": "9FgjpGDHeany"
      },
      "execution_count": null,
      "outputs": []
    },
    {
      "cell_type": "code",
      "source": [
        "plt.scatter(df['sepal_length'],df['petal_width'])\n",
        "plt.xlabel(\"Sepal Length\")\n",
        "plt.ylabel(\"Petal width\")\n",
        "plt.show()"
      ],
      "metadata": {
        "id": "U0dtc-KFei6J"
      },
      "execution_count": null,
      "outputs": []
    },
    {
      "cell_type": "code",
      "source": [
        ""
      ],
      "metadata": {
        "id": "mAuYEvm3emwE"
      },
      "execution_count": null,
      "outputs": []
    }
  ]
}